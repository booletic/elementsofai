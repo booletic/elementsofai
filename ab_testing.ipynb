{
 "cells": [
  {
   "cell_type": "code",
   "execution_count": 14,
   "metadata": {},
   "outputs": [
    {
     "name": "stdout",
     "output_type": "stream",
     "text": [
      "Ttest_indResult(statistic=0.09168604722034365, pvalue=0.9269566745658202)\n",
      "Ttest_indResult(statistic=2.135431894379663, pvalue=0.03284703858914734)\n"
     ]
    }
   ],
   "source": [
    "import numpy as np\n",
    "from scipy.stats import binom, ttest_ind\n",
    "\n",
    "rng = np.random.RandomState(0)\n",
    "\n",
    "n = 1000\n",
    "\n",
    "pa = 400 / n\n",
    "pb = 360 / n\n",
    "\n",
    "population1 = binom.rvs(1, pa, size=n, random_state=rng)\n",
    "population2 = binom.rvs(1, pb, size=n, random_state=rng)\n",
    "\n",
    "print(ttest_ind(population1, population2))\n",
    "\n",
    "pb = 340 / n\n",
    "population2 = binom.rvs(1, pb, size=n, random_state=rng)\n",
    "\n",
    "print(ttest_ind(population1, population2))\n"
   ]
  }
 ],
 "metadata": {
  "interpreter": {
   "hash": "31f2aee4e71d21fbe5cf8b01ff0e069b9275f58929596ceb00d14d90e3e16cd6"
  },
  "kernelspec": {
   "display_name": "Python 3.9.7 ('base')",
   "language": "python",
   "name": "python3"
  },
  "language_info": {
   "codemirror_mode": {
    "name": "ipython",
    "version": 3
   },
   "file_extension": ".py",
   "mimetype": "text/x-python",
   "name": "python",
   "nbconvert_exporter": "python",
   "pygments_lexer": "ipython3",
   "version": "3.8.10"
  },
  "orig_nbformat": 4
 },
 "nbformat": 4,
 "nbformat_minor": 2
}
