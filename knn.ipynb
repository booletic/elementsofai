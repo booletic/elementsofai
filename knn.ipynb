{
 "cells": [
  {
   "cell_type": "code",
   "execution_count": 1,
   "source": [
    "from sklearn.datasets import fetch_openml\n",
    "\n",
    "X, y = fetch_openml('mnist_784', version=1, return_X_y=True, as_frame=False)"
   ],
   "outputs": [],
   "metadata": {}
  },
  {
   "cell_type": "code",
   "execution_count": 2,
   "source": [
    "m = 60_000"
   ],
   "outputs": [],
   "metadata": {}
  },
  {
   "cell_type": "code",
   "execution_count": 3,
   "source": [
    "X_train, X_test, y_train, y_test = X[:m], X[m:], y[:m], y[m:]"
   ],
   "outputs": [],
   "metadata": {}
  },
  {
   "cell_type": "code",
   "execution_count": 4,
   "source": [
    "X_train.shape, X_test.shape"
   ],
   "outputs": [
    {
     "output_type": "execute_result",
     "data": {
      "text/plain": [
       "((60000, 784), (10000, 784))"
      ]
     },
     "metadata": {},
     "execution_count": 4
    }
   ],
   "metadata": {}
  },
  {
   "cell_type": "code",
   "execution_count": 5,
   "source": [
    "from sklearn.neighbors import KNeighborsClassifier\n",
    "\n",
    "# found during grid search\n",
    "best_params = {'n_neighbors': 4, 'weights': 'distance'}\n",
    "\n",
    "knn_clf = KNeighborsClassifier(**best_params)\n",
    "knn_clf.fit(X_train, y_train)"
   ],
   "outputs": [
    {
     "output_type": "execute_result",
     "data": {
      "text/plain": [
       "KNeighborsClassifier(n_neighbors=4, weights='distance')"
      ]
     },
     "metadata": {},
     "execution_count": 5
    }
   ],
   "metadata": {}
  },
  {
   "cell_type": "code",
   "execution_count": 6,
   "source": [
    "from sklearn.metrics import accuracy_score\n",
    "\n",
    "y_pred = knn_clf.predict(X_test)\n",
    "accuracy_score(y_pred, y_test)"
   ],
   "outputs": [
    {
     "output_type": "execute_result",
     "data": {
      "text/plain": [
       "0.9714"
      ]
     },
     "metadata": {},
     "execution_count": 6
    }
   ],
   "metadata": {}
  },
  {
   "cell_type": "code",
   "execution_count": 7,
   "source": [
    "y_pred.shape"
   ],
   "outputs": [
    {
     "output_type": "execute_result",
     "data": {
      "text/plain": [
       "(10000,)"
      ]
     },
     "metadata": {},
     "execution_count": 7
    }
   ],
   "metadata": {}
  },
  {
   "cell_type": "code",
   "execution_count": 8,
   "source": [
    "# from sklearn.model_selection import cross_val_score\n",
    "\n",
    "# scores = cross_val_score(knn_clf, X_train, y_train, cv=5)\n",
    "# scores"
   ],
   "outputs": [],
   "metadata": {}
  },
  {
   "cell_type": "code",
   "execution_count": 9,
   "source": [
    "# from sklearn.model_selection import cross_val_predict\n",
    "\n",
    "# y_pred_cv = cross_val_predict(knn_clf, X_train, y_train, cv=5)"
   ],
   "outputs": [],
   "metadata": {}
  },
  {
   "cell_type": "code",
   "execution_count": 10,
   "source": [
    "# y_pred_cv.shape"
   ],
   "outputs": [],
   "metadata": {}
  },
  {
   "cell_type": "code",
   "execution_count": 11,
   "source": [
    "# from sklearn.metrics import confusion_matrix\n",
    "\n",
    "# confusion_matrix(y_pred_cv, y_train)"
   ],
   "outputs": [],
   "metadata": {}
  },
  {
   "cell_type": "code",
   "execution_count": 12,
   "source": [
    "# knn_clf.get_params()"
   ],
   "outputs": [],
   "metadata": {}
  },
  {
   "cell_type": "code",
   "execution_count": 13,
   "source": [
    "# from sklearn.model_selection import GridSearchCV\n",
    "\n",
    "# parameters = {'n_neighbors': [4, 5, 6],\n",
    "#                 'weights': ['uniform', 'distance']}\n",
    "\n",
    "# grid_search = GridSearchCV(knn_clf, parameters, cv=5, verbose=3)\n",
    "# grid_search.fit(X_train, y_train)"
   ],
   "outputs": [],
   "metadata": {}
  },
  {
   "cell_type": "code",
   "execution_count": 14,
   "source": [
    "# import joblib\n",
    "\n",
    "# joblib.dump(grid_search, \"knn.pkl\")\n",
    "# grid_search = joblib.load(\"knn.pkl\")"
   ],
   "outputs": [],
   "metadata": {}
  },
  {
   "cell_type": "code",
   "execution_count": 15,
   "source": [
    "# grid_search.best_params_\n",
    "# best_params = {'n_neighbors': 4, 'weights': 'distance'}"
   ],
   "outputs": [],
   "metadata": {}
  },
  {
   "cell_type": "code",
   "execution_count": 16,
   "source": [
    "# grid_search.best_score_"
   ],
   "outputs": [],
   "metadata": {}
  },
  {
   "cell_type": "code",
   "execution_count": 17,
   "source": [
    "# y_pred = grid_search.predict(X_test)\n",
    "# accuracy_score(y_test, y_pred)"
   ],
   "outputs": [],
   "metadata": {}
  },
  {
   "cell_type": "code",
   "execution_count": 18,
   "source": [
    "import numpy as np\n",
    "import matplotlib.pyplot as plt\n",
    "from keras.preprocessing.image import ImageDataGenerator"
   ],
   "outputs": [],
   "metadata": {}
  },
  {
   "cell_type": "code",
   "execution_count": 19,
   "source": [
    "datagen = ImageDataGenerator(\n",
    "    width_shift_range= 2.0,\n",
    "    height_shift_range= 2.0,\n",
    "    rotation_range = 20,\n",
    ")"
   ],
   "outputs": [],
   "metadata": {}
  },
  {
   "cell_type": "code",
   "execution_count": 20,
   "source": [
    "datagen.fit(X_train.reshape(X_train.shape[0], 28, 28, 1))"
   ],
   "outputs": [],
   "metadata": {}
  },
  {
   "cell_type": "code",
   "execution_count": 21,
   "source": [
    "data_generator = datagen.flow(X_train.reshape(X_train.shape[0], 28, 28, 1),shuffle=False, batch_size=1)"
   ],
   "outputs": [],
   "metadata": {}
  },
  {
   "cell_type": "code",
   "execution_count": 22,
   "source": [
    "type(data_generator) "
   ],
   "outputs": [
    {
     "output_type": "execute_result",
     "data": {
      "text/plain": [
       "tensorflow.python.keras.preprocessing.image.NumpyArrayIterator"
      ]
     },
     "metadata": {},
     "execution_count": 22
    }
   ],
   "metadata": {}
  },
  {
   "cell_type": "code",
   "execution_count": 23,
   "source": [
    "X_train_aug = [data_generator.next() for i in range(0, m * 4)]"
   ],
   "outputs": [],
   "metadata": {}
  },
  {
   "cell_type": "code",
   "execution_count": 24,
   "source": [
    "X_train_240k = np.asarray(X_train_aug).reshape(m * 4, 28 * 28)"
   ],
   "outputs": [],
   "metadata": {}
  },
  {
   "cell_type": "code",
   "execution_count": 25,
   "source": [
    "X_train_240k.shape"
   ],
   "outputs": [
    {
     "output_type": "execute_result",
     "data": {
      "text/plain": [
       "(240000, 784)"
      ]
     },
     "metadata": {},
     "execution_count": 25
    }
   ],
   "metadata": {}
  },
  {
   "cell_type": "code",
   "execution_count": 26,
   "source": [
    "X_train_ext = np.vstack((X_train, X_train_240k))"
   ],
   "outputs": [],
   "metadata": {}
  },
  {
   "cell_type": "code",
   "execution_count": 27,
   "source": [
    "some = 0\n",
    "\n",
    "plt.set_cmap('binary')\n",
    "plt.figure(figsize=(12.8, 9.6), dpi=200)\n",
    "\n",
    "plt.subplot(151)\n",
    "plt.imshow(X_train_ext[some].reshape(28, 28))\n",
    "plt.subplot(152)\n",
    "plt.imshow(X_train_ext[some + m].reshape(28, 28))\n",
    "plt.subplot(153)\n",
    "plt.imshow(X_train_ext[some + m * 2].reshape(28, 28))\n",
    "plt.subplot(154)\n",
    "plt.imshow(X_train_ext[some + m * 3].reshape(28, 28))\n",
    "plt.subplot(155)\n",
    "plt.imshow(X_train_ext[some + m * 4].reshape(28, 28))\n",
    "\n",
    "plt.setp(plt.gcf().get_axes(), xticks=[], yticks=[])"
   ],
   "outputs": [
    {
     "output_type": "execute_result",
     "data": {
      "text/plain": [
       "[]"
      ]
     },
     "metadata": {},
     "execution_count": 27
    },
    {
     "output_type": "display_data",
     "data": {
      "text/plain": [
       "<Figure size 432x288 with 0 Axes>"
      ]
     },
     "metadata": {}
    },
    {
     "output_type": "display_data",
     "data": {
      "text/plain": [
       "<Figure size 2560x1920 with 5 Axes>"
      ],
      "image/svg+xml": "<?xml version=\"1.0\" encoding=\"utf-8\" standalone=\"no\"?>\n<!DOCTYPE svg PUBLIC \"-//W3C//DTD SVG 1.1//EN\"\n  \"http://www.w3.org/Graphics/SVG/1.1/DTD/svg11.dtd\">\n<!-- Created with matplotlib (https://matplotlib.org/) -->\n<svg height=\"141.044828pt\" version=\"1.1\" viewBox=\"0 0 732.14 141.044828\" width=\"732.14pt\" xmlns=\"http://www.w3.org/2000/svg\" xmlns:xlink=\"http://www.w3.org/1999/xlink\">\n <metadata>\n  <rdf:RDF xmlns:cc=\"http://creativecommons.org/ns#\" xmlns:dc=\"http://purl.org/dc/elements/1.1/\" xmlns:rdf=\"http://www.w3.org/1999/02/22-rdf-syntax-ns#\">\n   <cc:Work>\n    <dc:type rdf:resource=\"http://purl.org/dc/dcmitype/StillImage\"/>\n    <dc:date>2021-08-29T13:44:25.588909</dc:date>\n    <dc:format>image/svg+xml</dc:format>\n    <dc:creator>\n     <cc:Agent>\n      <dc:title>Matplotlib v3.3.4, https://matplotlib.org/</dc:title>\n     </cc:Agent>\n    </dc:creator>\n   </cc:Work>\n  </rdf:RDF>\n </metadata>\n <defs>\n  <style type=\"text/css\">*{stroke-linecap:butt;stroke-linejoin:round;}</style>\n </defs>\n <g id=\"figure_1\">\n  <g id=\"patch_1\">\n   <path d=\"M 0 141.044828 \nL 732.14 141.044828 \nL 732.14 0 \nL 0 0 \nz\n\" style=\"fill:none;\"/>\n  </g>\n  <g id=\"axes_1\">\n   <g id=\"patch_2\">\n    <path d=\"M 10.7 130.344828 \nL 133.844828 130.344828 \nL 133.844828 7.2 \nL 10.7 7.2 \nz\n\" style=\"fill:#ffffff;\"/>\n   </g>\n   <g clip-path=\"url(#p75152e6ac2)\">\n    <image height=\"123.48\" id=\"image6a41966f07\" transform=\"scale(1 -1)translate(0 -123.48)\" width=\"123.48\" x=\"10.7\" xlink:href=\"data:image/png;base64,\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\" y=\"-6.864828\"/>\n   </g>\n   <g id=\"matplotlib.axis_1\"/>\n   <g id=\"matplotlib.axis_2\"/>\n   <g id=\"patch_3\">\n    <path d=\"M 10.7 130.344828 \nL 10.7 7.2 \n\" style=\"fill:none;stroke:#000000;stroke-linecap:square;stroke-linejoin:miter;stroke-width:0.8;\"/>\n   </g>\n   <g id=\"patch_4\">\n    <path d=\"M 133.844828 130.344828 \nL 133.844828 7.2 \n\" style=\"fill:none;stroke:#000000;stroke-linecap:square;stroke-linejoin:miter;stroke-width:0.8;\"/>\n   </g>\n   <g id=\"patch_5\">\n    <path d=\"M 10.7 130.344828 \nL 133.844828 130.344828 \n\" style=\"fill:none;stroke:#000000;stroke-linecap:square;stroke-linejoin:miter;stroke-width:0.8;\"/>\n   </g>\n   <g id=\"patch_6\">\n    <path d=\"M 10.7 7.2 \nL 133.844828 7.2 \n\" style=\"fill:none;stroke:#000000;stroke-linecap:square;stroke-linejoin:miter;stroke-width:0.8;\"/>\n   </g>\n  </g>\n  <g id=\"axes_2\">\n   <g id=\"patch_7\">\n    <path d=\"M 158.473793 130.344828 \nL 281.618621 130.344828 \nL 281.618621 7.2 \nL 158.473793 7.2 \nz\n\" style=\"fill:#ffffff;\"/>\n   </g>\n   <g clip-path=\"url(#pf3619453d3)\">\n    <image height=\"123.48\" id=\"imagee52ea8579c\" transform=\"scale(1 -1)translate(0 -123.48)\" width=\"123.48\" x=\"158.473793\" xlink:href=\"data:image/png;base64,\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\" y=\"-6.864828\"/>\n   </g>\n   <g id=\"matplotlib.axis_3\"/>\n   <g id=\"matplotlib.axis_4\"/>\n   <g id=\"patch_8\">\n    <path d=\"M 158.473793 130.344828 \nL 158.473793 7.2 \n\" style=\"fill:none;stroke:#000000;stroke-linecap:square;stroke-linejoin:miter;stroke-width:0.8;\"/>\n   </g>\n   <g id=\"patch_9\">\n    <path d=\"M 281.618621 130.344828 \nL 281.618621 7.2 \n\" style=\"fill:none;stroke:#000000;stroke-linecap:square;stroke-linejoin:miter;stroke-width:0.8;\"/>\n   </g>\n   <g id=\"patch_10\">\n    <path d=\"M 158.473793 130.344828 \nL 281.618621 130.344828 \n\" style=\"fill:none;stroke:#000000;stroke-linecap:square;stroke-linejoin:miter;stroke-width:0.8;\"/>\n   </g>\n   <g id=\"patch_11\">\n    <path d=\"M 158.473793 7.2 \nL 281.618621 7.2 \n\" style=\"fill:none;stroke:#000000;stroke-linecap:square;stroke-linejoin:miter;stroke-width:0.8;\"/>\n   </g>\n  </g>\n  <g id=\"axes_3\">\n   <g id=\"patch_12\">\n    <path d=\"M 306.247586 130.344828 \nL 429.392414 130.344828 \nL 429.392414 7.2 \nL 306.247586 7.2 \nz\n\" style=\"fill:#ffffff;\"/>\n   </g>\n   <g clip-path=\"url(#p0aace54dfa)\">\n    <image height=\"123.48\" id=\"image41ee299aeb\" transform=\"scale(1 -1)translate(0 -123.48)\" width=\"123.48\" x=\"306.247586\" xlink:href=\"data:image/png;base64,\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\" y=\"-6.864828\"/>\n   </g>\n   <g id=\"matplotlib.axis_5\"/>\n   <g id=\"matplotlib.axis_6\"/>\n   <g id=\"patch_13\">\n    <path d=\"M 306.247586 130.344828 \nL 306.247586 7.2 \n\" style=\"fill:none;stroke:#000000;stroke-linecap:square;stroke-linejoin:miter;stroke-width:0.8;\"/>\n   </g>\n   <g id=\"patch_14\">\n    <path d=\"M 429.392414 130.344828 \nL 429.392414 7.2 \n\" style=\"fill:none;stroke:#000000;stroke-linecap:square;stroke-linejoin:miter;stroke-width:0.8;\"/>\n   </g>\n   <g id=\"patch_15\">\n    <path d=\"M 306.247586 130.344828 \nL 429.392414 130.344828 \n\" style=\"fill:none;stroke:#000000;stroke-linecap:square;stroke-linejoin:miter;stroke-width:0.8;\"/>\n   </g>\n   <g id=\"patch_16\">\n    <path d=\"M 306.247586 7.2 \nL 429.392414 7.2 \n\" style=\"fill:none;stroke:#000000;stroke-linecap:square;stroke-linejoin:miter;stroke-width:0.8;\"/>\n   </g>\n  </g>\n  <g id=\"axes_4\">\n   <g id=\"patch_17\">\n    <path d=\"M 454.021379 130.344828 \nL 577.166207 130.344828 \nL 577.166207 7.2 \nL 454.021379 7.2 \nz\n\" style=\"fill:#ffffff;\"/>\n   </g>\n   <g clip-path=\"url(#p062c386aaa)\">\n    <image height=\"123.48\" id=\"imaged6774f171e\" transform=\"scale(1 -1)translate(0 -123.48)\" width=\"123.48\" x=\"454.021379\" xlink:href=\"data:image/png;base64,\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\" y=\"-6.864828\"/>\n   </g>\n   <g id=\"matplotlib.axis_7\"/>\n   <g id=\"matplotlib.axis_8\"/>\n   <g id=\"patch_18\">\n    <path d=\"M 454.021379 130.344828 \nL 454.021379 7.2 \n\" style=\"fill:none;stroke:#000000;stroke-linecap:square;stroke-linejoin:miter;stroke-width:0.8;\"/>\n   </g>\n   <g id=\"patch_19\">\n    <path d=\"M 577.166207 130.344828 \nL 577.166207 7.2 \n\" style=\"fill:none;stroke:#000000;stroke-linecap:square;stroke-linejoin:miter;stroke-width:0.8;\"/>\n   </g>\n   <g id=\"patch_20\">\n    <path d=\"M 454.021379 130.344828 \nL 577.166207 130.344828 \n\" style=\"fill:none;stroke:#000000;stroke-linecap:square;stroke-linejoin:miter;stroke-width:0.8;\"/>\n   </g>\n   <g id=\"patch_21\">\n    <path d=\"M 454.021379 7.2 \nL 577.166207 7.2 \n\" style=\"fill:none;stroke:#000000;stroke-linecap:square;stroke-linejoin:miter;stroke-width:0.8;\"/>\n   </g>\n  </g>\n  <g id=\"axes_5\">\n   <g id=\"patch_22\">\n    <path d=\"M 601.795172 130.344828 \nL 724.94 130.344828 \nL 724.94 7.2 \nL 601.795172 7.2 \nz\n\" style=\"fill:#ffffff;\"/>\n   </g>\n   <g clip-path=\"url(#p74e6538ddf)\">\n    <image height=\"123.48\" id=\"image2a4dae3084\" transform=\"scale(1 -1)translate(0 -123.48)\" width=\"123.48\" x=\"601.795172\" xlink:href=\"data:image/png;base64,\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\" y=\"-6.864828\"/>\n   </g>\n   <g id=\"matplotlib.axis_9\"/>\n   <g id=\"matplotlib.axis_10\"/>\n   <g id=\"patch_23\">\n    <path d=\"M 601.795172 130.344828 \nL 601.795172 7.2 \n\" style=\"fill:none;stroke:#000000;stroke-linecap:square;stroke-linejoin:miter;stroke-width:0.8;\"/>\n   </g>\n   <g id=\"patch_24\">\n    <path d=\"M 724.94 130.344828 \nL 724.94 7.2 \n\" style=\"fill:none;stroke:#000000;stroke-linecap:square;stroke-linejoin:miter;stroke-width:0.8;\"/>\n   </g>\n   <g id=\"patch_25\">\n    <path d=\"M 601.795172 130.344828 \nL 724.94 130.344828 \n\" style=\"fill:none;stroke:#000000;stroke-linecap:square;stroke-linejoin:miter;stroke-width:0.8;\"/>\n   </g>\n   <g id=\"patch_26\">\n    <path d=\"M 601.795172 7.2 \nL 724.94 7.2 \n\" style=\"fill:none;stroke:#000000;stroke-linecap:square;stroke-linejoin:miter;stroke-width:0.8;\"/>\n   </g>\n  </g>\n </g>\n <defs>\n  <clipPath id=\"p75152e6ac2\">\n   <rect height=\"123.144828\" width=\"123.144828\" x=\"10.7\" y=\"7.2\"/>\n  </clipPath>\n  <clipPath id=\"pf3619453d3\">\n   <rect height=\"123.144828\" width=\"123.144828\" x=\"158.473793\" y=\"7.2\"/>\n  </clipPath>\n  <clipPath id=\"p0aace54dfa\">\n   <rect height=\"123.144828\" width=\"123.144828\" x=\"306.247586\" y=\"7.2\"/>\n  </clipPath>\n  <clipPath id=\"p062c386aaa\">\n   <rect height=\"123.144828\" width=\"123.144828\" x=\"454.021379\" y=\"7.2\"/>\n  </clipPath>\n  <clipPath id=\"p74e6538ddf\">\n   <rect height=\"123.144828\" width=\"123.144828\" x=\"601.795172\" y=\"7.2\"/>\n  </clipPath>\n </defs>\n</svg>\n",
      "image/png": "[encoded data removed]"
     },
     "metadata": {}
    }
   ],
   "metadata": {}
  },
  {
   "cell_type": "code",
   "execution_count": 28,
   "source": [
    "y_train_ext = np.concatenate((y_train, y_train, y_train, y_train, y_train))"
   ],
   "outputs": [],
   "metadata": {}
  },
  {
   "cell_type": "code",
   "execution_count": 29,
   "source": [
    "# [y_train_ext[i] for i in range(0, m * 5, m)]"
   ],
   "outputs": [],
   "metadata": {}
  },
  {
   "cell_type": "code",
   "execution_count": 30,
   "source": [
    "knn_clf.fit(X_train_ext, y_train_ext)"
   ],
   "outputs": [
    {
     "output_type": "execute_result",
     "data": {
      "text/plain": [
       "KNeighborsClassifier(n_neighbors=4, weights='distance')"
      ]
     },
     "metadata": {},
     "execution_count": 30
    }
   ],
   "metadata": {}
  },
  {
   "cell_type": "code",
   "execution_count": 31,
   "source": [
    "y_pred_ext = knn_clf.predict(X_test)"
   ],
   "outputs": [],
   "metadata": {}
  },
  {
   "cell_type": "code",
   "execution_count": 32,
   "source": [
    "scores_ext = accuracy_score(y_pred_ext, y_test)\n",
    "scores_ext"
   ],
   "outputs": [
    {
     "output_type": "execute_result",
     "data": {
      "text/plain": [
       "0.976"
      ]
     },
     "metadata": {},
     "execution_count": 32
    }
   ],
   "metadata": {}
  }
 ],
 "metadata": {
  "orig_nbformat": 4,
  "language_info": {
   "name": "python",
   "version": "3.9.5",
   "mimetype": "text/x-python",
   "codemirror_mode": {
    "name": "ipython",
    "version": 3
   },
   "pygments_lexer": "ipython3",
   "nbconvert_exporter": "python",
   "file_extension": ".py"
  },
  "kernelspec": {
   "name": "python3",
   "display_name": "Python 3.9.5 64-bit (conda)"
  },
  "interpreter": {
   "hash": "a666b68479d2125e9736dd614682e43ae1a8e3757b0bfdf8b7a2e2ab24770c1c"
  }
 },
 "nbformat": 4,
 "nbformat_minor": 2
}